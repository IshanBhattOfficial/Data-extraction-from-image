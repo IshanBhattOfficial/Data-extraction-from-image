{
  "nbformat": 4,
  "nbformat_minor": 0,
  "metadata": {
    "colab": {
      "name": "ExOP PUNE.ipynb",
      "version": "0.3.2",
      "provenance": [],
      "collapsed_sections": [],
      "include_colab_link": true
    },
    "kernelspec": {
      "name": "python3",
      "display_name": "Python 3"
    },
    "accelerator": "GPU"
  },
  "cells": [
    {
      "cell_type": "markdown",
      "metadata": {
        "id": "view-in-github",
        "colab_type": "text"
      },
      "source": [
        "<a href=\"https://colab.research.google.com/github/IshanBhattOfficial/Data-extraction-from-image/blob/master/ExOP_PUNE.ipynb\" target=\"_parent\"><img src=\"https://colab.research.google.com/assets/colab-badge.svg\" alt=\"Open In Colab\"/></a>"
      ]
    },
    {
      "metadata": {
        "id": "GDxDuJMIjopY",
        "colab_type": "code",
        "colab": {}
      },
      "cell_type": "code",
      "source": [
        "##To check if GPU acceleration is enabled\n",
        "import tensorflow as tf\n",
        "device_name = tf.test.gpu_device_name()\n",
        "if device_name != '/device:GPU:0':\n",
        "  raise SystemError('GPU device not found')\n",
        "print('Found GPU at: {}'.format(device_name))"
      ],
      "execution_count": 0,
      "outputs": []
    },
    {
      "metadata": {
        "id": "zLEVe1LTtDO7",
        "colab_type": "code",
        "colab": {}
      },
      "cell_type": "code",
      "source": [
        "## Use this cell to fetch the image if you are not ishan bhatt using image's live URL\n",
        "from PIL import Image\n",
        "import requests\n",
        "from io import BytesIO\n",
        "import cv2\n",
        "import matplotlib.pyplot as plt\n",
        "\n",
        "url = \"https://ai2-s2-public.s3.amazonaws.com/figures/2017-08-08/6c45b5f5481125a311ea46a05e7acfa1de0f2cfb/3-Table2-1.png\"\n",
        "response = requests.get(url)\n",
        "img = Image.open(BytesIO(response.content))\n",
        "\n",
        "plt.imshow(img)\n",
        "#plt.imsave\n",
        "plt.imsave(\"TheImage.png\", img)"
      ],
      "execution_count": 0,
      "outputs": []
    },
    {
      "metadata": {
        "colab_type": "code",
        "id": "7T1q3Z_bMtGm",
        "colab": {}
      },
      "cell_type": "code",
      "source": [
        "## Dont run if you are not ishan\n",
        "## Mounting Ishan Bhatt's google drive to Colab environment\n",
        "## This code is useful if we want to fetch images from google drive instead of URL  \n",
        "\"\"\"\n",
        "from google.colab import drive\n",
        "drive.mount(\"/content/drive\")\n",
        "\"\"\""
      ],
      "execution_count": 0,
      "outputs": []
    },
    {
      "metadata": {
        "colab_type": "code",
        "id": "utoQS1mpMs7z",
        "colab": {}
      },
      "cell_type": "code",
      "source": [
        "## Dont run if you are not ishan\n",
        "## fetching image from Ishan Bhatt's google drive\n",
        "\"\"\"\n",
        "import cv2\n",
        "import matplotlib.pyplot as plt\n",
        "\n",
        "plt.imshow(img)\n",
        "\n",
        "\"\"\"\n"
      ],
      "execution_count": 0,
      "outputs": []
    },
    {
      "metadata": {
        "id": "gJY5RbLcvdIK",
        "colab_type": "code",
        "colab": {}
      },
      "cell_type": "code",
      "source": [
        "##installing google OCR engine : tesseract\n",
        "!pip3 install pytesseract\n"
      ],
      "execution_count": 0,
      "outputs": []
    },
    {
      "metadata": {
        "id": "-6SIi15_uMiG",
        "colab_type": "code",
        "colab": {}
      },
      "cell_type": "code",
      "source": [
        "##importing Tesseract\n",
        "import pytesseract \n",
        "pytesseract.pytesseract.tesseract_cmd = r'/usr/local/bin/pytesseract'"
      ],
      "execution_count": 0,
      "outputs": []
    },
    {
      "metadata": {
        "id": "puDPSRpqwtXh",
        "colab_type": "code",
        "colab": {}
      },
      "cell_type": "code",
      "source": [
        "### DONT RUN\n",
        "from PIL import Image\n",
        "\n",
        "text = \"\"\n",
        "output = !python3 /usr/local/bin/pytesseract -l eng temp.png\n",
        "\n",
        "for i in output:\n",
        "  text += str(i)\n",
        "  \n",
        "print (text)"
      ],
      "execution_count": 0,
      "outputs": []
    },
    {
      "metadata": {
        "id": "gmp19_UNQ6Xw",
        "colab_type": "code",
        "colab": {}
      },
      "cell_type": "code",
      "source": [
        "import numpy as np\n",
        "import cv2\n",
        "\n",
        "gray = cv2.imread('TheImage.png')\n",
        "gray_temp = cv2.imread('TheImage.png')\n",
        "\n",
        "edges = cv2.Canny(gray_temp,50,100,apertureSize = 3)\n",
        "# 50 = minThreshold; 100 = maxThreshold; Sobel Kernel size = 3x3\n",
        "plt.imshow(edges)\n",
        "lines = cv2.HoughLinesP(image=edges,rho=1,theta=np.pi/180, threshold=150,lines=np.array([]), minLineLength = 100 ,maxLineGap=5)\n",
        "\n",
        "a,b,c = lines.shape\n",
        "for i in range(a):\n",
        "    cv2.line(gray_temp, (lines[i][0][0], lines[i][0][1]), (lines[i][0][2], lines[i][0][3]), (0, 0, 255), 3, cv2.LINE_AA)\n",
        "\n",
        "plt.imshow(gray_temp)\n",
        "plt.imsave(\"edgesDetected.png\", gray)"
      ],
      "execution_count": 0,
      "outputs": []
    },
    {
      "metadata": {
        "id": "pix_CR00S_Ap",
        "colab_type": "code",
        "colab": {}
      },
      "cell_type": "code",
      "source": [
        "## NO NEED TO RUN\n",
        "print(lines[:,0])"
      ],
      "execution_count": 0,
      "outputs": []
    },
    {
      "metadata": {
        "id": "a3x7lotGXVMO",
        "colab_type": "code",
        "colab": {}
      },
      "cell_type": "code",
      "source": [
        "horizontal_cuts = []\n",
        "vertical_cuts = []\n",
        "\n",
        "for line in lines[:,0]:\n",
        "  if line[0] == line[2]:\n",
        "    vertical_cuts.append(line[0])\n",
        "  else:\n",
        "    horizontal_cuts.append(line[1])\n",
        "    \n",
        "horizontal_cuts = sorted(list(set(horizontal_cuts)))\n",
        "vertical_cuts = sorted(list(set(vertical_cuts)))\n",
        "\n",
        "#print(horizontal_cuts)\n",
        "#print(vertical_cuts)\n",
        "\n",
        "h_cuts, v_cuts = [i for i in horizontal_cuts], [i for i in vertical_cuts]\n",
        "\n",
        "for i in range(len(horizontal_cuts)-1):\n",
        "  if horizontal_cuts[i+1] - horizontal_cuts[i] < 40:\n",
        "    h_cuts.remove(horizontal_cuts[i])\n",
        "#h_cuts.append(horizontal_cuts[-1])\n",
        "for i in range(len(vertical_cuts)-1):\n",
        "  if vertical_cuts[i+1] - vertical_cuts[i] < 100:\n",
        "    v_cuts.remove(vertical_cuts[i])\n",
        "\n",
        "print(\"H-CUTS\", h_cuts)\n",
        "print(\"V-CUTS\", v_cuts)"
      ],
      "execution_count": 0,
      "outputs": []
    },
    {
      "metadata": {
        "id": "f3MxxuYSXle3",
        "colab_type": "code",
        "colab": {}
      },
      "cell_type": "code",
      "source": [
        "n_rows = len(h_cuts) -1\n",
        "n_cols = len(v_cuts) -1\n",
        "cnt =1\n",
        "for i in range(n_rows):\n",
        "  for j in range(n_cols):\n",
        "    plt.subplot(n_rows,n_cols, cnt)\n",
        "    plt.imshow(gray[h_cuts[i]:h_cuts[i+1], v_cuts[j]:v_cuts[j+1]])\n",
        "    cnt+=1\n",
        "    \n"
      ],
      "execution_count": 0,
      "outputs": []
    },
    {
      "metadata": {
        "id": "QcN2hsde0UsX",
        "colab_type": "code",
        "colab": {}
      },
      "cell_type": "code",
      "source": [
        "n_cols"
      ],
      "execution_count": 0,
      "outputs": []
    },
    {
      "metadata": {
        "id": "8fe7Q1ygqC9A",
        "colab_type": "code",
        "colab": {}
      },
      "cell_type": "code",
      "source": [
        "labels = []\n",
        "for i in range(n_cols):\n",
        "  label = \"\"\n",
        "  plt.imsave(\"temp.png\", gray[h_cuts[0]:h_cuts[1], v_cuts[i]:v_cuts[i+1]])\n",
        "  #plt.subplot(1,4,i+1)\n",
        "  #plt.sublpot(1, 4, c)\n",
        "  #plt.imshow(gray[h_cuts[0]:h_cuts[1], v_cuts[i]:v_cuts[i+1]])\n",
        "  label_txt = !python3 /usr/local/bin/pytesseract -l eng temp.png\n",
        "  #print(label_txt)\n",
        "  for j in label_txt:\n",
        "    label += str(j) + \" \"\n",
        "  label = label.strip()\n",
        "  labels.append(label)\n",
        "#print(labels)"
      ],
      "execution_count": 0,
      "outputs": []
    },
    {
      "metadata": {
        "id": "DlmODNQtt-iO",
        "colab_type": "code",
        "colab": {}
      },
      "cell_type": "code",
      "source": [
        "data_dict = {\"data\" : []}\n",
        "\n",
        "for i in range(1,n_rows):\n",
        "  data_dict[\"data\"].append({\"id\" : i})\n",
        "  for j in range(n_cols):\n",
        "    datum = \"\"\n",
        "    plt.imsave(\"temp.png\", gray[h_cuts[i]:h_cuts[i+1], v_cuts[j]:v_cuts[j+1]])\n",
        "    \n",
        "    datum_txt = !python3 /usr/local/bin/pytesseract -l eng temp.png\n",
        "    for k in datum_txt:\n",
        "      datum += str(k) + \" \"\n",
        "    datum = datum.strip()\n",
        "    if i ==2:\n",
        "      plt.subplot(1, 4, j+1)\n",
        "      plt.imshow(gray[h_cuts[i]:h_cuts[i+1], v_cuts[j]:v_cuts[j+1]])\n",
        "      print(datum)\n",
        "    data_dict[\"data\"][i-1][labels[j]] = datum\n",
        "    \n",
        "#print(data_dict)\n",
        "  "
      ],
      "execution_count": 0,
      "outputs": []
    },
    {
      "metadata": {
        "id": "kVi3cnD7AuG3",
        "colab_type": "code",
        "colab": {}
      },
      "cell_type": "code",
      "source": [
        "import json\n",
        "\n",
        "with open(\"extracteddata.json\", \"w\") as store:\n",
        "  json.dump(data_dict, store)\n",
        "\n",
        "with open(\"extracteddata.json\", \"r\") as store:\n",
        "  final = json.load( store)\n",
        "  \n",
        "plt.imshow(gray)\n",
        "for row in final[\"data\"]:\n",
        "  print(row)"
      ],
      "execution_count": 0,
      "outputs": []
    }
  ]
}